{
 "cells": [
  {
   "cell_type": "markdown",
   "id": "80ff39e6",
   "metadata": {},
   "source": [
    "# 인공 신경망 개념 소개"
   ]
  },
  {
   "cell_type": "markdown",
   "id": "473bdc26",
   "metadata": {},
   "source": [
    "- 인공신경망 기본 개념\n",
    "뇌의 신경망을 모방하여 만든 기계 학습 알고리즘"
   ]
  },
  {
   "cell_type": "markdown",
   "id": "ab2fe767",
   "metadata": {},
   "source": [
    "### 생물학적 신경망과 인공 신경망 차이"
   ]
  },
  {
   "cell_type": "markdown",
   "id": "f9b7152a",
   "metadata": {},
   "source": [
    "1. 생물학적 신경망은 생물학적 뇌에 기반한 신경망이다. 이는 천연의 생물학적 프로세스로 발전한 것이며, 우리 뇌의 구조와 기능을 모방하여 만들어졌다. 반면, 인공신경망은 인간이 디자인한 컴퓨터 프로그램이며, 일반적으로 생물학적인 제약을 받지 않는다.\n",
    "2. 생물학적 신경망은 다양한 생물학적 메커니즘을 통해 작동한다. 반면, 인공신경망은 단순한 수학적 모델로 구성된다."
   ]
  },
  {
   "cell_type": "markdown",
   "id": "79a1f565",
   "metadata": {},
   "source": [
    "### 인공신경망의 구조\n",
    "입력층, 은닉층, 출력층으로 구성된 다중 퍼셉트론(MLP)를 중심으로 만들어진다.\n",
    "\n",
    "- 입력층 : 입력 데이터가 들어오는 부분으로, 보통은 데이터의 각 특성을 나타내는 노드들로 구성된다.\n",
    "- 은닉층 : 입력층과 출력층 사이에 있는 층. 신경망이 복잡한 패턴을 학습할 수 있도록 돕는다. 여러 개의 은닉층을 가진 신경망도 있다. 은닉층의 노드는 활성화 함수를 사용해 입력값을 계산한다. 이 활성화 함수는 일반적으로 비선형 함수이다. 비선형 함수를 사용하는 것은 신경망이 복잡한 함수를 모델링할 수 있도록 돕기 때문이다.\n",
    "- 출력층 : 신경망이 예측하거나 분류해야 하는 출력값을 내보내는 부분. 출력층의 노드는 출력 값의 종류에 따라 달라진다.\n",
    "\n",
    "인공 신경망은 각 층의 노드들 사이에 가중치(weight)와 바이어스(bias)를 가진다. 가중치는 입력값과 은닉층 노드, 은닉층 노드와 출력층 노드 간의 연결에 대한 정보를 담고 있다. 입력 신호에 곱해져서 다음 레이어로 전달되는 값. 학습 과정에서 자동으로 조정되어 최적의 값을 찾게 된다. 이를 위해 일반적으로 역전파 알고리즘이 사용된다. 역전파 알고리즘은 출력값과 실제값의 차이를 계산하여 각 노드의 가중치를 적절하게 수정하게 된다. 바이어스는 각 노드에 대한 편향 값을 의미한다."
   ]
  },
  {
   "cell_type": "markdown",
   "id": "fc780d65",
   "metadata": {},
   "source": [
    "## 가중치 적용한 시각화 실습\n",
    "2차원 가중치 행렬을 랜덤으로 초기화 한 후, 가중치 값을 1차원 벡터로 변환하여 분포를 시각화 하는 코드"
   ]
  },
  {
   "cell_type": "code",
   "execution_count": 1,
   "id": "6b485137",
   "metadata": {},
   "outputs": [],
   "source": [
    "import torch\n",
    "import matplotlib.pyplot as plt"
   ]
  },
  {
   "cell_type": "markdown",
   "id": "5f13779f",
   "metadata": {},
   "source": [
    "#### 2차원 가중치 행렬을 랜덤으로 초기화\n",
    "함수를 사용해 3x3 크기의 가중치 행렬을 랜덤으로 초기화 한다. 이 가중치 행렬은 정규분포를 따르므로, 행렬의 각 워노는 평균 0, 표준편차 1을 갖는 랜덤한 값을 가진다."
   ]
  },
  {
   "cell_type": "code",
   "execution_count": 2,
   "id": "b141eb2e",
   "metadata": {},
   "outputs": [],
   "source": [
    "w = torch.randn(3, 3)"
   ]
  },
  {
   "cell_type": "markdown",
   "id": "8ba60b7c",
   "metadata": {},
   "source": [
    "#### 가중치를 1차원 벡터로 변환\n",
    "w.flatten() 함수를 사용해 2차원 가중치 행렬을 1차원 벡터로 변환한다. 이 때, 행렬의 첫 번째 행부터 마지막 행까지 순서대로 이어붙인 결과가 반환된다."
   ]
  },
  {
   "cell_type": "code",
   "execution_count": 3,
   "id": "da77d067",
   "metadata": {},
   "outputs": [],
   "source": [
    "w_flattened = w.flatten()"
   ]
  },
  {
   "cell_type": "markdown",
   "id": "52aea9f7",
   "metadata": {},
   "source": [
    "#### 가중치 분포를 시각화"
   ]
  },
  {
   "cell_type": "code",
   "execution_count": 4,
   "id": "162312c3",
   "metadata": {},
   "outputs": [
    {
     "data": {
      "image/png": "[encoded data removed]",
      "text/plain": [
       "<Figure size 640x480 with 1 Axes>"
      ]
     },
     "metadata": {},
     "output_type": "display_data"
    }
   ],
   "source": [
    "plt.hist(w_flattened, bins=20)\n",
    "plt.xlabel('Weight Value')\n",
    "plt.ylabel('Frequency')\n",
    "plt.show()"
   ]
  },
  {
   "cell_type": "markdown",
   "id": "310766e0",
   "metadata": {},
   "source": [
    "2차원 가중치 행렬을 랜덤으로 초기화 한 후, 가중치 값을 1차원 벡터로 변환하여 분포를 시각화 하는 코드이다.<br>\n",
    "이를 통해 가중치 값이 어떤 분포를 따르는지 확인할 수 있다. 예를 들어, 히스토그램이 좌측으로 치우쳐져 있으면 가중치 값이 음수 쪽으로 치우쳐져 있다는 것을 의미하며, 반대로 우측으로 치우쳐져 있으면 가중치 값이 양수 쪽으로 치우쳐져 있다는 것을 의미한다.<br>\n",
    "- x축은 가중치 값의 범위, y축은 해당 범위 내의 가중치 값이 나타난 빈도수\n",
    "\n",
    "- 가중치 값이 모델 학습에 어떤 영향을 미칠지는 다양한 요소들이 있다.\n",
    "> 가중치 값의 분포가 대칭적이고 중앙값과 평균이 비슷하다면, 이 모델은 대부분의 입력에 대해서 비슷한 크기의 출력을 생성할 것이다. 이는 모델이 안정적으로 작동하는 것을 의미한다. 반면, 가중치 값의 분포가 비대칭적이고 값이 크거나 작은 경우, 모델이 높은 분산을 가질 수 있다. 이 경우, 모델이 학습 데이터에 과적합 될 가능성이 높아진다. 또한, 가중치 값이 매우 작거나 클 경우, 입력 신호가 전혀 전달되지 않을 수 있다.\n",
    "<br>\n",
    "> 따라서, 모델 학습에 가중치 값이 어떤 영향을 미치는지 이해하는 것은 중요하다. 예를 들어, 일부 딥러닝 모데렝서는 가중치 값의 분포를 일정한 범위 내로 조절하는 가중치 초기화 방법을 사용하기도 한다. 이를 통해 모델의 안정성과 학습 성능을 개선할 수 있다.\n",
    "\n",
    "<br>\n",
    "편향은 딥 러닝에서 모델이 예측하는 값에 대한 상수항이다. 즉, 입력에 대한 가중치와 곱해지는 편향이 모델의 출력에 더해져 최종 예측값을 만든다. 선형 회귀 모델의 경우, 예측값 y는 y = w(x에 대한 가중치)x + b(편향)로 계산된다.<br>\n",
    "<br>딥러닝에서는 편향이 모델의 학습에 매우 중요하다. 편향이 없으면 모델은 입력 데이터에 대한 직선만 학습할 수 있다. 즉, 입력 데이터와 출력값 사이의 관계가 반드시 원점을 지나는 직선이어야 한다. 하지만 대부분의 데이터는 이러한 직선과 원점을 지나지 않는 형태를 가지고 있기 때문에 모델이 적절한 예측을 할 수 없다.<br>\n",
    "따라서, 편향을 추가함으로써 모델이 보다 복잡한 함수 형태를 학습할 수 있게 된다. 또한, 편향이 학습에 영향을 미치기 때문에 가중치와 마찬가지로 초기값을 적절하게 설정하는 것이 중요하다. 가중치와 마찬가지로 역전파 알고리즘을 통해 학습된다. 역전파 알고리즘은 편향에 대한 기울기를 계산하여 가중치와 함께 모델 파라미터를 업데이트 한다."
   ]
  },
  {
   "cell_type": "markdown",
   "id": "66c87fb0",
   "metadata": {},
   "source": [
    "## Bias 간단 실습\n",
    "크기가 1인 랜덤한 값을 가지는 편향 생성"
   ]
  },
  {
   "cell_type": "code",
   "execution_count": 5,
   "id": "e5dee46b",
   "metadata": {},
   "outputs": [],
   "source": [
    "import torch\n",
    "import matplotlib.pyplot as plt"
   ]
  },
  {
   "cell_type": "markdown",
   "id": "02b087aa",
   "metadata": {},
   "source": [
    "#### 편향 랜덤으로 초기화"
   ]
  },
  {
   "cell_type": "code",
   "execution_count": 6,
   "id": "f822f10f",
   "metadata": {},
   "outputs": [
    {
     "name": "stdout",
     "output_type": "stream",
     "text": [
      "tensor([1.9191])\n"
     ]
    }
   ],
   "source": [
    "b = torch.randn(1)\n",
    "print(b)"
   ]
  },
  {
   "cell_type": "markdown",
   "id": "b1a10613",
   "metadata": {},
   "source": [
    "b = torch.randn(1) : torch.randn() 함수를 사용하여 크기가 1인 랜덤한 값을 가지는 텐서를 생성하고, 이를 변수 b에 할당한다. => 편향"
   ]
  },
  {
   "cell_type": "markdown",
   "id": "06f262d1",
   "metadata": {},
   "source": [
    "#### 편향 값을 시각화"
   ]
  },
  {
   "cell_type": "code",
   "execution_count": 7,
   "id": "21a1baa3",
   "metadata": {},
   "outputs": [
    {
     "data": {
      "image/png": "[encoded data removed]",
      "text/plain": [
       "<Figure size 640x480 with 1 Axes>"
      ]
     },
     "metadata": {},
     "output_type": "display_data"
    }
   ],
   "source": [
    "plt.hist(b.detach().numpy(), bins=20)\n",
    "plt.xlabel('Bias Value')\n",
    "plt.ylabel('Frequency')\n",
    "plt.show()"
   ]
  },
  {
   "cell_type": "markdown",
   "id": "07b7aea0",
   "metadata": {},
   "source": [
    "일반적으로, 편향 값은 평균값이 0에 가까우며, 대부분의 값이 -1에서 1 사이에 분포하는 것을 볼 수 있다.\n",
    "<br>\n",
    "위 그래프를 통해 편향 값의 분포를 파악할 수 있으며, 이를 통해 모델 학습 과정에서 편향이 어떻게 변화하는지 추적할 수 있다. 예를 들어, 학습이 진행됨에따라 편향 값이 어떤 범위에서 수렴하는지, 또는 편향 값의 분포가 어떻게 변화하는지 등을 파악할 수 있다."
   ]
  },
  {
   "cell_type": "markdown",
   "id": "9e338e96",
   "metadata": {},
   "source": [
    "### 인공신경망의 동작원리 설명 : 입력층\n",
    "인공신경망의 입력층은 입력 데이터를 받는다. 입력 데이터는 일반적으로 벡터 형태이며, 각 원소는 특정한 값을 나타낸다. 예를 들어, 이미지 데이터의 경우 각 픽셀의 밝기 값을 입력으로 사용할 수 있다.\n",
    "\n",
    "### 인공신경망의 동작원리 설명 : 은닉층\n",
    "입력층 다음으로는 하나 이상의 은닉층이 있다. 은닉층은 입력층으로부터 전달받은 입력 데이터를 이용하여 중간 계산을 수행한다. 이 중간 계산은 가중치와 활성화 함수를 이용하여 수행된다. 가중치는 입력 데이터와 은닉층의 노드를 연결하는 매개변수이며, 학습과정에서 업데이트 된다. 활성화 함수는 은닉층의 출력을 결정하는 함수로, 비선형 함수를 사용한다.\n",
    "\n",
    "### 인공신경망의 동작원리 설명 : 출력층\n",
    "출력층은 은닉층의 출력을 이용하여 최종 출력값을 계산한다. 출력층의 노드 수는 예측하고자 하는 값의 개수에 따라 달라진다. 분류 문제의 경우 출력층의 노드 수는 클래스의 개수와 동일하다.\n",
    "\n",
    "### 인공신경망의 동작원리 설명 : 손실함수(Loss function)\n",
    "인공 신경망의 학습 과정에서는 손실 함수를 최소화하는 방향으로 가중치를 업데이트한다. 손실 함수는 예측값과 실제값의 차이를 계산하는 함수이며, 일반적으로 제곱 오차나 교차 엔트로피 함수를 사용한다.\n",
    "> 손실함수는 인공 신경망에서 학습 중 모델이 예측한 출력값과 실제 정답을 비교하여, 모델이 얼마나 잘 예측했는지를 측정하는 함수이다. 손실 함수의 값은 모델이 예측한 값과 실제 값이 얼마나 차이가 나는지를 나타내며, 이 값을 최소화하는 방향으로 모델의 가중치를 조정하여 예측 성능을 개선한다.\n",
    "<br> 손실함수는 다양한 종류가 있으며, 문제의 종류나 출력값의 형태에 따라 적절한 손실함수를 선택하여 사용한다.(회귀에서는 MSE가, 분류에서는 Cross Entropy가 일반적으로 사용된다.)<br>\n",
    "인공 신경망에서는 손실 함수를 최소화하는 방향으로 가중치를 업데이트하여 학습한다. 이를 위해 역전파 알고리즘이 사용되며, 손실 함수의 기울기를 계산하여 가중치를 업데이트 한다."
   ]
  },
  {
   "cell_type": "markdown",
   "id": "2587f066",
   "metadata": {},
   "source": [
    "## 인공신경망 용어 정리 - 몇가지 대표적인 손실 함수 종류 소개\n",
    "- 평균 제곱 오차 (Mean Squared Error, MSE)\n",
    "예측값과 실제값의 차이를 제곱한 값들의 평균을 계산한 것. 회귀에서 많이 사용됨. 즉 MSE는 이 실제값과 예측값의 차이를 제곱하여 평균을 구한 값으로, 예측값과 실제값의 차이가 클수록 오차가 커지는 특성을 가진다. 따라서 모델이 예측한 값이 실제값과 가까울수록 MSE의 값은 작아지게 된다."
   ]
  },
  {
   "cell_type": "markdown",
   "id": "9d5065e3",
   "metadata": {},
   "source": [
    "## 평균 제곱 오차 간단한 실습"
   ]
  },
  {
   "cell_type": "code",
   "execution_count": 8,
   "id": "7f7ef962",
   "metadata": {},
   "outputs": [],
   "source": [
    "import numpy as np"
   ]
  },
  {
   "cell_type": "code",
   "execution_count": 13,
   "id": "ae26afea",
   "metadata": {},
   "outputs": [
    {
     "name": "stdout",
     "output_type": "stream",
     "text": [
      "1.0\n"
     ]
    }
   ],
   "source": [
    "def mean_squared_error(y_train, y_pred) :\n",
    "    mean_temp = np.mean((y_true-y_pred)**2)\n",
    "    \n",
    "    return mean_temp\n",
    "\n",
    "\"\"\"\n",
    "예시 y_true = (1, 2, 3, 4) y_pred = (2, 3, 5, 6)\n",
    "\"\"\"\n",
    "\n",
    "y_true = np.array([1,2,3,4])\n",
    "y_pred = np.array([2,3,4,5])\n",
    "\n",
    "mean_value = mean_squared_error(y_true, y_pred)\n",
    "print(mean_value)"
   ]
  },
  {
   "cell_type": "markdown",
   "id": "996d65c5",
   "metadata": {},
   "source": [
    "y_true와 y_pred 각각의 차이 : y_true - y_pred = [-1, -1, -1, -1] => 이를 제곱하면, (y_true - y_pred)^2 = [1, 1, 1, 1]\n",
    "<br>\n",
    "따라서, 위 값들의 평균인 1.0이 MSE 값이 된다."
   ]
  },
  {
   "cell_type": "markdown",
   "id": "44042189",
   "metadata": {},
   "source": [
    "- 교차 엔트로피 손실(Cross Entropy Loss)\n",
    "Cross Entropy Loss는 예측값과 실제값 사이의 교차 엔트로피를 계산한 것이다. 이진 분류나 다중 분류 문제에서 사용된다.\n",
    "\n",
    "- Binary Cross Entropy Loss\n",
    "이 손실 함수는 이진 분류 문제에서 주로 사용된다. 실제값이 1일 때 첫 번째 항이, 실제값이 0일 때 두 번째 항이 손실 함수의 값을 결정한다. 첫 번째 항에서는 예측값이 1일수록 손실이 작아지고, 두 번째 항에서는 예측값이 0일수록 손실이 작아진다. 따라서 이 손실 함수는 모델이 정확하게 예측하는 경우 손실 함수의 값이 작아지고, 틀릴수록 커지게 된다."
   ]
  },
  {
   "cell_type": "markdown",
   "id": "212ecc7b",
   "metadata": {},
   "source": [
    "## Binary Cross Entrpy Loss 간단한 실습"
   ]
  },
  {
   "cell_type": "code",
   "execution_count": 10,
   "id": "957f67f9",
   "metadata": {},
   "outputs": [
    {
     "name": "stdout",
     "output_type": "stream",
     "text": [
      "n value >>  4\n",
      "0.1738072166964861\n"
     ]
    }
   ],
   "source": [
    "def binary_cross_entropy_loss(y_true_temp, y_pred_temp):\n",
    "    epsilon = 1e-7\n",
    "    n = y_true_temp.shape[0]\n",
    "    print('n value >> ', n)\n",
    "    loss = -np.mean(y_true_temp * np.log(y_pred_temp + epsilon)+(1 - y_true_temp) * np.log(1-y_pred_temp+epsilon))\n",
    "    return loss\n",
    "\n",
    "y_true_temp = np.array([1, 0, 1, 1])\n",
    "y_pred_temp = np.array([0.99, 0.1, 0.8, 0.7])\n",
    "\n",
    "loss = binary_cross_entropy_loss(y_true_temp, y_pred_temp)\n",
    "print(loss)"
   ]
  },
  {
   "cell_type": "markdown",
   "id": "97c68d0b",
   "metadata": {},
   "source": [
    "## Cross Entropy Loss"
   ]
  },
  {
   "cell_type": "code",
   "execution_count": 11,
   "id": "19122d5e",
   "metadata": {},
   "outputs": [
    {
     "name": "stdout",
     "output_type": "stream",
     "text": [
      "n_value >>  3\n",
      "Cross Entropy Loss :  0.42432189193762915\n"
     ]
    }
   ],
   "source": [
    "def cross_entropy_loss(y_true_01, y_pred_01, C):\n",
    "    \"\"\"\n",
    "    y_true_01 : 실제값 (크기: (n, C))\n",
    "    y_pred_01 : 예측값 (크기: (n, C))\n",
    "    C: 클래스 개수\n",
    "    \"\"\"\n",
    "    \n",
    "    n_temp = y_true_01.shape[0]  # 샘플 개수\n",
    "    print(\"n_value >> \", n_temp)\n",
    "    ce_loss = -1 / n_temp * np.sum(y_true_01 * np.log(y_pred_01))   # CE Loss 계산\n",
    "    \n",
    "    return ce_loss\n",
    "\n",
    "y_true_01 = np.array([[1,0,0], [0,1,0], [0,0,1]])   # 실제값\n",
    "y_pred_01 = np.array([[0.7, 0.2, 0.1], [0.1, 0.8, 0.1], [0.2, 0.3, 0.5]])   # 예측값\n",
    "C = 3   # 클래스 개수\n",
    "\n",
    "ce_loss_value = cross_entropy_loss(y_true_01, y_pred_01, C)   # Cross Entroy Loss 계산\n",
    "print(\"Cross Entropy Loss : \", ce_loss_value)"
   ]
  },
  {
   "cell_type": "markdown",
   "id": "f58e01a0",
   "metadata": {},
   "source": [
    "- 힌지 손실 (Hinge Loss)\n",
    "서포트 벡터 머신 (SVM)에서 사용되는 손실 함수. 주로 이진 분류 문제에서 사용\n",
    "\n",
    "- L2 손실\n",
    "MSE라고도 불리며, 실제값과 예측값의 차이의 제곱을 모든 샘플에 대해 평균을 내서 계산한다. L2 손실은 L1 손실과 달리 제곱을 함으로써, 오차가 큰 값들에 대해 더욱 큰 패널티를 주는 특징이 있다. 따라서 이상치가 있는 데이터에 대해 L1 손실보다 더욱 민감하게 반응하게 된다. L2 손실은 주로 회귀 문제에서 사용되며, 최소제곱법 등에 활용된다."
   ]
  },
  {
   "cell_type": "code",
   "execution_count": null,
   "id": "5f7ebe04",
   "metadata": {},
   "outputs": [],
   "source": []
  }
 ],
 "metadata": {
  "kernelspec": {
   "display_name": "AIpytorch",
   "language": "python",
   "name": "aipytorch"
  },
  "language_info": {
   "codemirror_mode": {
    "name": "ipython",
    "version": 3
   },
   "file_extension": ".py",
   "mimetype": "text/x-python",
   "name": "python",
   "nbconvert_exporter": "python",
   "pygments_lexer": "ipython3",
   "version": "3.8.0"
  }
 },
 "nbformat": 4,
 "nbformat_minor": 5
}
