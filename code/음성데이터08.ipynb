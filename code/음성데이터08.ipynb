{
 "cells": [
  {
   "cell_type": "code",
   "execution_count": 6,
   "id": "d321afc2",
   "metadata": {},
   "outputs": [],
   "source": [
    "from PIL import Image\n",
    "import glob\n",
    "import os"
   ]
  },
  {
   "cell_type": "code",
   "execution_count": 7,
   "id": "aa5f9dbe",
   "metadata": {},
   "outputs": [
    {
     "name": "stderr",
     "output_type": "stream",
     "text": [
      "C:\\Users\\smjin\\AppData\\Local\\Temp\\ipykernel_13128\\1552717265.py:18: DeprecationWarning: ANTIALIAS is deprecated and will be removed in Pillow 10 (2023-07-01). Use LANCZOS or Resampling.LANCZOS instead.\n",
      "  img = img.resize((new_size[0], new_size[1]), Image.ANTIALIAS)\n"
     ]
    }
   ],
   "source": [
    "def expend2square(pil_img, background_color):\n",
    "    width,height = pil_img.size\n",
    "    \n",
    "    if width == height:\n",
    "        return pil_img\n",
    "    \n",
    "    elif width > height :\n",
    "        result = Image.new(pil_img.mode, (width, width), background_color)\n",
    "        result.paste(pil_img, (0, (width - height) // 2))\n",
    "        return result\n",
    "    else:\n",
    "        result = Image.new(pill_img.mode, (height, height), background_color)\n",
    "        result.paste(pil_img, ((height - width) // 2, 0))\n",
    "        return result\n",
    "\n",
    "def resize_with_padding(pil_img, new_size, background_color) :\n",
    "    img = expend2square(pil_img, background_color)\n",
    "    img = img.resize((new_size[0], new_size[1]), Image.ANTIALIAS)\n",
    "    \n",
    "    return img\n",
    "\n",
    "img_path_list = glob.glob(os.path.join(\"./\", \"*.png\"))\n",
    "\n",
    "# 폴더 하나 생성\n",
    "os.makedirs(\"./data\", exist_ok = True)\n",
    "\n",
    "for i, image_path in enumerate(img_path_list) :\n",
    "    img = Image.open(image_path)\n",
    "    img_new = resize_with_padding(img, (255, 255), (0, 0, 0))\n",
    "    \n",
    "    save_file_name = f\"./sample_data/{str(i).zfill(4)}_resize_img.png\"\n",
    "    img_new.save(save_file_name, \"png\")"
   ]
  },
  {
   "cell_type": "code",
   "execution_count": null,
   "id": "fcee4357",
   "metadata": {},
   "outputs": [],
   "source": []
  }
 ],
 "metadata": {
  "kernelspec": {
   "display_name": "AIpytorch",
   "language": "python",
   "name": "aipytorch"
  },
  "language_info": {
   "codemirror_mode": {
    "name": "ipython",
    "version": 3
   },
   "file_extension": ".py",
   "mimetype": "text/x-python",
   "name": "python",
   "nbconvert_exporter": "python",
   "pygments_lexer": "ipython3",
   "version": "3.8.0"
  }
 },
 "nbformat": 4,
 "nbformat_minor": 5
}
