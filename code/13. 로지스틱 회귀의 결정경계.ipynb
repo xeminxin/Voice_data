{
 "cells": [
  {
   "cell_type": "markdown",
   "id": "93afc729",
   "metadata": {},
   "source": [
    "# 결정 경계\n",
    "분류기가 분류한 두 클래스를 나누는 경계선을 의미<br>\n",
    "로지스틱 회귀는 이진 분류 모델로서, 입력 데이터의 특징값을 바탕으로 해당 데이터가 어느 클래스에 속하는지를 판단하는 모델이다. 로지스틱 회귀 모델의 학습 결과는 wegiht와 bias값이며, 이를 사용하여 결정 경계를 계산할 수 있다.<br>\n",
    "로지스틱 회귀의 결정 경계는 결정 경계 함수로 나타낼 수 있으며, 이 함수는 입력 데이터를 분류하는 임계값을 지정하여 결정 경계를 나타낸다. 이 함수는 일반적으로 시그모이드 함수를 사용한다."
   ]
  },
  {
   "cell_type": "markdown",
   "id": "6324aa35",
   "metadata": {},
   "source": [
    "- 로지스틱 회귀의 결정 경계 구현 방법\n",
    "1. 학습된 가중치와 편향을 사용해 결정 경계 함수 정의\n",
    "2. 결정 경계 함수의 결과를 임계값과 비교하여 분류 결과 결정\n",
    "3. 결정 경계 시각화 -> 결정 경계는 일반적으로 2차원 평면 상에 그려짐"
   ]
  },
  {
   "cell_type": "markdown",
   "id": "63dd03cb",
   "metadata": {},
   "source": [
    "## 로지스틱 회귀의 결정 경계 실습"
   ]
  },
  {
   "cell_type": "code",
   "execution_count": 1,
   "id": "7cea579e",
   "metadata": {},
   "outputs": [],
   "source": [
    "import torch\n",
    "import torch.nn.functional as F\n",
    "import numpy as np\n",
    "import matplotlib.pyplot as plt"
   ]
  },
  {
   "cell_type": "markdown",
   "id": "42d034d6",
   "metadata": {},
   "source": [
    "### 임의의 데이터 생성"
   ]
  },
  {
   "cell_type": "code",
   "execution_count": 2,
   "id": "b144a50e",
   "metadata": {},
   "outputs": [
    {
     "name": "stdout",
     "output_type": "stream",
     "text": [
      "tensor([[ 1.7398e+00,  1.1229e+00],\n",
      "        [ 7.6223e-01, -2.2581e+00],\n",
      "        [-9.8151e-01, -4.8253e-01],\n",
      "        [-1.9194e+00, -1.6465e+00],\n",
      "        [-4.1676e-01, -4.6751e-01],\n",
      "        [ 5.3208e-01,  1.0757e+00],\n",
      "        [-4.1466e-01, -1.8873e+00],\n",
      "        [ 8.0690e-01,  2.4821e-01],\n",
      "        [-4.9227e-01,  1.5422e-01],\n",
      "        [-4.4869e-01, -9.4349e-01],\n",
      "        [ 3.0794e-02, -3.7951e-01],\n",
      "        [-1.1604e+00, -2.0733e-01],\n",
      "        [ 1.3053e+00,  7.9413e-02],\n",
      "        [ 1.0144e+00, -3.0438e-02],\n",
      "        [ 1.1498e-02,  7.2414e-01],\n",
      "        [-3.0742e-02,  2.7042e-01],\n",
      "        [-9.7842e-01, -7.2545e-01],\n",
      "        [-1.9088e+00, -3.3563e-01],\n",
      "        [ 5.6664e-02,  2.3798e-02],\n",
      "        [ 5.6975e-01, -1.7295e+00],\n",
      "        [-1.6481e+00, -8.7383e-01],\n",
      "        [ 8.1591e-01, -1.1455e+00],\n",
      "        [ 1.4051e+00,  7.3641e-01],\n",
      "        [-3.8171e-01, -4.1211e-01],\n",
      "        [-9.4667e-01, -7.7998e-01],\n",
      "        [-2.2661e-01, -8.9424e-01],\n",
      "        [-2.1444e-01,  7.6485e-01],\n",
      "        [-7.6888e-01,  5.2580e-01],\n",
      "        [ 5.5715e-01,  5.1416e-01],\n",
      "        [-5.9481e-01, -1.0592e+00],\n",
      "        [ 3.0066e-01,  2.2414e-02],\n",
      "        [ 1.0324e+00,  2.1730e-02],\n",
      "        [-1.0445e+00,  1.9707e+00],\n",
      "        [-2.9522e-02, -4.0114e-01],\n",
      "        [ 2.2400e-03,  3.8333e-01],\n",
      "        [-1.4285e-01, -5.8313e-01],\n",
      "        [ 4.7500e-01, -1.5519e-01],\n",
      "        [-1.3395e+00,  1.3243e+00],\n",
      "        [-1.9930e+00,  7.0969e-01],\n",
      "        [ 5.1873e-01, -1.5757e+00],\n",
      "        [-1.5627e-01, -4.3286e-01],\n",
      "        [-8.9013e-01, -1.2806e-01],\n",
      "        [ 1.3111e+00, -2.6999e-01],\n",
      "        [ 1.7294e+00, -8.4044e-01],\n",
      "        [-2.9068e-01,  2.5083e-01],\n",
      "        [ 1.0484e+00, -7.9196e-02],\n",
      "        [ 3.1044e-01,  1.0880e+00],\n",
      "        [-1.3636e+00,  2.0647e-01],\n",
      "        [ 6.8583e-01, -1.9675e-01],\n",
      "        [ 1.4926e-02, -6.9843e-01],\n",
      "        [-1.7779e-01,  3.8879e-01],\n",
      "        [ 3.9597e-01, -8.2701e-01],\n",
      "        [ 1.4768e+00, -1.2345e-01],\n",
      "        [ 9.5930e-02, -1.5946e+00],\n",
      "        [-2.5267e-02,  1.0905e-01],\n",
      "        [-1.9349e-01,  1.4467e+00],\n",
      "        [ 1.2331e+00,  9.9752e-01],\n",
      "        [ 9.6558e-01,  8.0610e-01],\n",
      "        [ 6.0481e-01, -1.5305e+00],\n",
      "        [ 4.3309e-01,  1.5618e+00],\n",
      "        [-1.1898e+00, -3.6517e-01],\n",
      "        [ 1.0701e+00, -8.8282e-01],\n",
      "        [-3.0079e-01, -5.9366e-01],\n",
      "        [-5.2456e-01, -2.2984e-01],\n",
      "        [ 1.0471e+00, -3.8623e-01],\n",
      "        [ 3.5350e-01, -1.6596e+00],\n",
      "        [ 2.5879e-02,  1.9661e-02],\n",
      "        [-3.5653e-01,  1.2306e+00],\n",
      "        [-1.2127e+00, -1.1718e-02],\n",
      "        [ 6.0354e-01,  2.5192e-01],\n",
      "        [-7.4797e-01, -5.6180e-01],\n",
      "        [ 1.4179e-01, -1.0399e+00],\n",
      "        [-1.7065e-01, -1.8040e-01],\n",
      "        [ 1.1248e+00,  1.5860e-01],\n",
      "        [ 5.8785e-01, -2.9980e-01],\n",
      "        [ 1.3033e-01,  6.4268e-01],\n",
      "        [-1.8090e+00, -1.0212e+00],\n",
      "        [ 9.4266e-01,  6.5557e-01],\n",
      "        [-9.1455e-01, -2.0479e-01],\n",
      "        [-3.0902e-01,  5.6023e-01],\n",
      "        [-4.6925e-01, -1.7122e+00],\n",
      "        [ 6.5982e-01, -1.1869e+00],\n",
      "        [-1.0659e+00, -3.9741e-01],\n",
      "        [-1.5907e+00, -5.3344e-01],\n",
      "        [ 8.1847e-01,  1.2764e+00],\n",
      "        [-7.5744e-01, -1.0475e-01],\n",
      "        [-3.9579e-01,  1.8858e+00],\n",
      "        [ 9.6242e-01,  6.0559e-01],\n",
      "        [-2.1786e+00,  7.0843e-02],\n",
      "        [-8.3944e-01,  6.9132e-01],\n",
      "        [-2.1190e-02, -2.4082e+00],\n",
      "        [ 8.0855e-01,  2.5052e-01],\n",
      "        [ 6.7191e-01,  1.9688e-01],\n",
      "        [-4.7914e-01,  1.0784e+00],\n",
      "        [-7.7680e-01, -2.0303e-02],\n",
      "        [ 1.2756e+00, -1.4914e+00],\n",
      "        [-1.5560e+00, -3.1029e+00],\n",
      "        [-5.2601e-02,  7.0837e-01],\n",
      "        [ 1.8994e+00, -7.2658e-01],\n",
      "        [-3.0332e-01, -2.7256e+00]]) tensor([1., 0., 0., 0., 0., 1., 0., 0., 0., 0., 0., 0., 0., 0., 0., 0., 0., 0.,\n",
      "        0., 0., 0., 0., 1., 0., 0., 0., 0., 0., 1., 0., 0., 0., 0., 0., 0., 0.,\n",
      "        0., 0., 0., 0., 0., 0., 0., 0., 0., 0., 0., 0., 0., 0., 0., 0., 0., 0.,\n",
      "        0., 0., 1., 1., 0., 0., 0., 0., 0., 0., 0., 0., 0., 0., 0., 0., 0., 0.,\n",
      "        0., 0., 0., 0., 0., 1., 0., 0., 0., 0., 0., 0., 1., 0., 0., 1., 0., 0.,\n",
      "        0., 0., 0., 0., 0., 0., 0., 0., 0., 0.])\n"
     ]
    }
   ],
   "source": [
    "x = torch.randn(100, 2)\n",
    "y = ((x[:,0] > 0.5) & (x[:,1] > 0.5)).float()\n",
    "\n",
    "print(x, y)"
   ]
  },
  {
   "cell_type": "code",
   "execution_count": 3,
   "id": "0508245f",
   "metadata": {},
   "outputs": [
    {
     "name": "stdout",
     "output_type": "stream",
     "text": [
      "LogisticRegression(\n",
      "  (linear): Linear(in_features=2, out_features=1, bias=True)\n",
      ")\n"
     ]
    }
   ],
   "source": [
    "class LogisticRegression(torch.nn.Module):\n",
    "    def __init__ (self, input_dim, output_dim):\n",
    "        super(LogisticRegression, self).__init__()\n",
    "        self.linear = torch.nn.Linear(input_dim, output_dim)\n",
    "        \n",
    "    def forward(self, x):\n",
    "        out = self.linear(x)\n",
    "        \n",
    "        return F.sigmoid(out)\n",
    "    \n",
    "model = LogisticRegression(input_dim = 2, output_dim=1)\n",
    "print(model)"
   ]
  },
  {
   "cell_type": "markdown",
   "id": "4eadd120",
   "metadata": {},
   "source": [
    "### 모델 학습"
   ]
  },
  {
   "cell_type": "code",
   "execution_count": 7,
   "id": "a7ec941a",
   "metadata": {},
   "outputs": [
    {
     "data": {
      "image/png": "[encoded data removed]",
      "text/plain": [
       "<Figure size 640x480 with 1 Axes>"
      ]
     },
     "metadata": {},
     "output_type": "display_data"
    }
   ],
   "source": [
    "criterion = torch.nn.BCELoss()\n",
    "optimizer = torch.optim.SGD(model.parameters(), lr = 0.1)\n",
    "for epoch in range(1000):\n",
    "    y_pred = model(x)\n",
    "    loss = criterion(y_pred.squeeze(), y)\n",
    "    optimizer.zero_grad()\n",
    "    loss.backward()\n",
    "    optimizer.step()\n",
    "    \n",
    "# 결정 경계 그리기\n",
    "plt.scatter(x[:, 0], x[:, 1], c=y)\n",
    "x_min, x_max = plt.xlim()\n",
    "y_min, y_max = plt.ylim()\n",
    "xx, yy = np.meshgrid(np.linspace(x_min, x_max, 100), np.linspace(y_min, y_max, 100))\n",
    "z = model(torch.tensor(np.c_[xx.ravel(), yy.ravel()], dtype=torch.float32)).detach().numpy()\n",
    "z = z.reshape(xx.shape)\n",
    "plt.contour(xx, yy, z, levels=[0.5], colors='r')\n",
    "plt.show()"
   ]
  },
  {
   "cell_type": "markdown",
   "id": "7fe08590",
   "metadata": {},
   "source": [
    "로지스틱 회귀 모델은 입력 데이터를 선형 결합으로 변환하고, 시그모이드 함수를 사용하여 출력을 확률로 변환한다.<br>\n",
    "분류 경계선은 출력이 0.5가 되는 지점으로 결정된다.<br>\n",
    "위 그래프에서 보라색과 노란색 영역 사이의 경계선은 결정 경계이다. 이 결정 경계는 노란색 클래스와 보라색 클래스를 가장 잘 구분하는 선이다.<br>\n",
    "결정 경계는 로지스틱 회귀 모델이 학습한 파라미터에 따라 달라진다. 이 예제에서는 학습된 모델의 파라미터를 사용하여 결정 경계를 그렸다. 따라서 이 모델의 결정 경계는 위 그래프에서 볼 수 있는 직성 형태를 가진다."
   ]
  },
  {
   "cell_type": "code",
   "execution_count": null,
   "id": "50a34bb1",
   "metadata": {},
   "outputs": [],
   "source": []
  }
 ],
 "metadata": {
  "kernelspec": {
   "display_name": "AIpytorch",
   "language": "python",
   "name": "aipytorch"
  },
  "language_info": {
   "codemirror_mode": {
    "name": "ipython",
    "version": 3
   },
   "file_extension": ".py",
   "mimetype": "text/x-python",
   "name": "python",
   "nbconvert_exporter": "python",
   "pygments_lexer": "ipython3",
   "version": "3.8.0"
  }
 },
 "nbformat": 4,
 "nbformat_minor": 5
}
