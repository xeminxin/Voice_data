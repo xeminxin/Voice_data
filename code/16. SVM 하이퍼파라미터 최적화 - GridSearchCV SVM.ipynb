{
 "cells": [
  {
   "cell_type": "markdown",
   "id": "fdb04d47",
   "metadata": {},
   "source": [
    "## SVM의 하이퍼파라미터 최적화 - 그리드 서치\n",
    "SVM에서 사용하는 하이퍼파라미터들은 모델의 성능과 결과에 큰 영향을 미친다. 하이퍼파라미터를 잘 선택하면 모델의 성능을 높일 수 있지만, 이를 선택하는 것은 어려운 일이다. 이 때문에 SVM 모델에서는 하이퍼파라미터를 선택하는 과정을 자동화하는 방법인 그리드 서치를 사용한다.<br>\n",
    "그리드 서치는 SVM 모델에서 사용하는 하이퍼파라미터들의 모든 조합을 시도하며, 최적의 조합을 찾아내는 방법이다. 그리드서치를 수행할 때는 모든 하이퍼파라미터 조합을 시도하기 때문에 시간이 많이 소요된다. 따라서 그리드 서치는 하이퍼파라미터 공간을 충분히 탐색하면서도 연산 비용을 최소화하는 것이 중요하다. 이를 위해 scikit-learn 패키지에서는 GridSearcCV 클래스를 제공한다. 이 클래스를 사용하면 하이퍼파라미터 공간을 적절히 설정하고, 교차 검증을 사용하여 모델의 성능을 측정하고, 최적의 하이퍼파라미터 조합을 찾아낼 수 있다."
   ]
  },
  {
   "cell_type": "markdown",
   "id": "a1004c37",
   "metadata": {},
   "source": [
    "# Scikit-learn 이용하여 SVM 모델의 최적 하이퍼파라미터 찾기"
   ]
  },
  {
   "cell_type": "code",
   "execution_count": 3,
   "id": "4de5e799",
   "metadata": {},
   "outputs": [],
   "source": [
    "import numpy as np\n",
    "from sklearn.model_selection import GridSearchCV\n",
    "from sklearn.pipeline import Pipeline\n",
    "from sklearn.preprocessing import StandardScaler\n",
    "from sklearn.svm import SVC"
   ]
  },
  {
   "cell_type": "markdown",
   "id": "384c7c45",
   "metadata": {},
   "source": [
    "## GridSearchCV SVM 모델 최적 하이퍼파라미터 찾기"
   ]
  },
  {
   "cell_type": "code",
   "execution_count": 4,
   "id": "61729016",
   "metadata": {},
   "outputs": [],
   "source": [
    "# 데이터 생성\n",
    "rng = np.random.RandomState(0)\n",
    "x = rng.randn(100, 10)\n",
    "y = rng.binomial(1, 0.5, 100)"
   ]
  },
  {
   "cell_type": "markdown",
   "id": "4c30d888",
   "metadata": {},
   "source": [
    "먼저 100개의 샘플과 10개의 특성을 가지는 랜덤한 데이터셋을 생성한다."
   ]
  },
  {
   "cell_type": "code",
   "execution_count": 5,
   "id": "24fda03a",
   "metadata": {},
   "outputs": [],
   "source": [
    "# 파이프라인 생성\n",
    "svm_pipeline = Pipeline([\n",
    "    ('scaler', StandardScaler()),\n",
    "    ('svm', SVC())\n",
    "])"
   ]
  },
  {
   "cell_type": "markdown",
   "id": "efe66856",
   "metadata": {},
   "source": [
    "StandardScaler를 사용하여 데이터를 스케일링하고, SVM 모델을 사용하기 위해 파이프라인을 구성한다."
   ]
  },
  {
   "cell_type": "code",
   "execution_count": 8,
   "id": "6f643f43",
   "metadata": {},
   "outputs": [],
   "source": [
    "# 탐색할 하이퍼파라미터 그리그 생성\n",
    "param_grid = {\n",
    "    'svm__C' : [0.1, 1, 10],\n",
    "    'svm__kernel' : ['linear', 'rbf'],\n",
    "    'svm__gamma' : ['scale', 'auto']\n",
    "}"
   ]
  },
  {
   "cell_type": "markdown",
   "id": "ea4623d7",
   "metadata": {},
   "source": [
    "탐색할 하이퍼파라미터 그리드를 정의한다.<br>\n",
    "- C : 0.1, 1, 10의 값을 가짐\n",
    "- kernel : 'linear', 'rbf' 두 가지 사용\n",
    "- gamma : 'scale', 'auto' 두 가지 사용"
   ]
  },
  {
   "cell_type": "markdown",
   "id": "8c9962f1",
   "metadata": {},
   "source": [
    "### 그리드 서치 수행"
   ]
  },
  {
   "cell_type": "code",
   "execution_count": 11,
   "id": "e96555f1",
   "metadata": {},
   "outputs": [
    {
     "data": {
      "text/html": [
       "<style>#sk-container-id-1 {color: black;background-color: white;}#sk-container-id-1 pre{padding: 0;}#sk-container-id-1 div.sk-toggleable {background-color: white;}#sk-container-id-1 label.sk-toggleable__label {cursor: pointer;display: block;width: 100%;margin-bottom: 0;padding: 0.3em;box-sizing: border-box;text-align: center;}#sk-container-id-1 label.sk-toggleable__label-arrow:before {content: \"▸\";float: left;margin-right: 0.25em;color: #696969;}#sk-container-id-1 label.sk-toggleable__label-arrow:hover:before {color: black;}#sk-container-id-1 div.sk-estimator:hover label.sk-toggleable__label-arrow:before {color: black;}#sk-container-id-1 div.sk-toggleable__content {max-height: 0;max-width: 0;overflow: hidden;text-align: left;background-color: #f0f8ff;}#sk-container-id-1 div.sk-toggleable__content pre {margin: 0.2em;color: black;border-radius: 0.25em;background-color: #f0f8ff;}#sk-container-id-1 input.sk-toggleable__control:checked~div.sk-toggleable__content {max-height: 200px;max-width: 100%;overflow: auto;}#sk-container-id-1 input.sk-toggleable__control:checked~label.sk-toggleable__label-arrow:before {content: \"▾\";}#sk-container-id-1 div.sk-estimator input.sk-toggleable__control:checked~label.sk-toggleable__label {background-color: #d4ebff;}#sk-container-id-1 div.sk-label input.sk-toggleable__control:checked~label.sk-toggleable__label {background-color: #d4ebff;}#sk-container-id-1 input.sk-hidden--visually {border: 0;clip: rect(1px 1px 1px 1px);clip: rect(1px, 1px, 1px, 1px);height: 1px;margin: -1px;overflow: hidden;padding: 0;position: absolute;width: 1px;}#sk-container-id-1 div.sk-estimator {font-family: monospace;background-color: #f0f8ff;border: 1px dotted black;border-radius: 0.25em;box-sizing: border-box;margin-bottom: 0.5em;}#sk-container-id-1 div.sk-estimator:hover {background-color: #d4ebff;}#sk-container-id-1 div.sk-parallel-item::after {content: \"\";width: 100%;border-bottom: 1px solid gray;flex-grow: 1;}#sk-container-id-1 div.sk-label:hover label.sk-toggleable__label {background-color: #d4ebff;}#sk-container-id-1 div.sk-serial::before {content: \"\";position: absolute;border-left: 1px solid gray;box-sizing: border-box;top: 0;bottom: 0;left: 50%;z-index: 0;}#sk-container-id-1 div.sk-serial {display: flex;flex-direction: column;align-items: center;background-color: white;padding-right: 0.2em;padding-left: 0.2em;position: relative;}#sk-container-id-1 div.sk-item {position: relative;z-index: 1;}#sk-container-id-1 div.sk-parallel {display: flex;align-items: stretch;justify-content: center;background-color: white;position: relative;}#sk-container-id-1 div.sk-item::before, #sk-container-id-1 div.sk-parallel-item::before {content: \"\";position: absolute;border-left: 1px solid gray;box-sizing: border-box;top: 0;bottom: 0;left: 50%;z-index: -1;}#sk-container-id-1 div.sk-parallel-item {display: flex;flex-direction: column;z-index: 1;position: relative;background-color: white;}#sk-container-id-1 div.sk-parallel-item:first-child::after {align-self: flex-end;width: 50%;}#sk-container-id-1 div.sk-parallel-item:last-child::after {align-self: flex-start;width: 50%;}#sk-container-id-1 div.sk-parallel-item:only-child::after {width: 0;}#sk-container-id-1 div.sk-dashed-wrapped {border: 1px dashed gray;margin: 0 0.4em 0.5em 0.4em;box-sizing: border-box;padding-bottom: 0.4em;background-color: white;}#sk-container-id-1 div.sk-label label {font-family: monospace;font-weight: bold;display: inline-block;line-height: 1.2em;}#sk-container-id-1 div.sk-label-container {text-align: center;}#sk-container-id-1 div.sk-container {/* jupyter's `normalize.less` sets `[hidden] { display: none; }` but bootstrap.min.css set `[hidden] { display: none !important; }` so we also need the `!important` here to be able to override the default hidden behavior on the sphinx rendered scikit-learn.org. See: https://github.com/scikit-learn/scikit-learn/issues/21755 */display: inline-block !important;position: relative;}#sk-container-id-1 div.sk-text-repr-fallback {display: none;}</style><div id=\"sk-container-id-1\" class=\"sk-top-container\"><div class=\"sk-text-repr-fallback\"><pre>GridSearchCV(cv=5,\n",
       "             estimator=Pipeline(steps=[(&#x27;scaler&#x27;, StandardScaler()),\n",
       "                                       (&#x27;svm&#x27;, SVC())]),\n",
       "             param_grid={&#x27;svm__C&#x27;: [0.1, 1, 10],\n",
       "                         &#x27;svm__gamma&#x27;: [&#x27;scale&#x27;, &#x27;auto&#x27;],\n",
       "                         &#x27;svm__kernel&#x27;: [&#x27;linear&#x27;, &#x27;rbf&#x27;]})</pre><b>In a Jupyter environment, please rerun this cell to show the HTML representation or trust the notebook. <br />On GitHub, the HTML representation is unable to render, please try loading this page with nbviewer.org.</b></div><div class=\"sk-container\" hidden><div class=\"sk-item sk-dashed-wrapped\"><div class=\"sk-label-container\"><div class=\"sk-label sk-toggleable\"><input class=\"sk-toggleable__control sk-hidden--visually\" id=\"sk-estimator-id-1\" type=\"checkbox\" ><label for=\"sk-estimator-id-1\" class=\"sk-toggleable__label sk-toggleable__label-arrow\">GridSearchCV</label><div class=\"sk-toggleable__content\"><pre>GridSearchCV(cv=5,\n",
       "             estimator=Pipeline(steps=[(&#x27;scaler&#x27;, StandardScaler()),\n",
       "                                       (&#x27;svm&#x27;, SVC())]),\n",
       "             param_grid={&#x27;svm__C&#x27;: [0.1, 1, 10],\n",
       "                         &#x27;svm__gamma&#x27;: [&#x27;scale&#x27;, &#x27;auto&#x27;],\n",
       "                         &#x27;svm__kernel&#x27;: [&#x27;linear&#x27;, &#x27;rbf&#x27;]})</pre></div></div></div><div class=\"sk-parallel\"><div class=\"sk-parallel-item\"><div class=\"sk-item\"><div class=\"sk-label-container\"><div class=\"sk-label sk-toggleable\"><input class=\"sk-toggleable__control sk-hidden--visually\" id=\"sk-estimator-id-2\" type=\"checkbox\" ><label for=\"sk-estimator-id-2\" class=\"sk-toggleable__label sk-toggleable__label-arrow\">estimator: Pipeline</label><div class=\"sk-toggleable__content\"><pre>Pipeline(steps=[(&#x27;scaler&#x27;, StandardScaler()), (&#x27;svm&#x27;, SVC())])</pre></div></div></div><div class=\"sk-serial\"><div class=\"sk-item\"><div class=\"sk-serial\"><div class=\"sk-item\"><div class=\"sk-estimator sk-toggleable\"><input class=\"sk-toggleable__control sk-hidden--visually\" id=\"sk-estimator-id-3\" type=\"checkbox\" ><label for=\"sk-estimator-id-3\" class=\"sk-toggleable__label sk-toggleable__label-arrow\">StandardScaler</label><div class=\"sk-toggleable__content\"><pre>StandardScaler()</pre></div></div></div><div class=\"sk-item\"><div class=\"sk-estimator sk-toggleable\"><input class=\"sk-toggleable__control sk-hidden--visually\" id=\"sk-estimator-id-4\" type=\"checkbox\" ><label for=\"sk-estimator-id-4\" class=\"sk-toggleable__label sk-toggleable__label-arrow\">SVC</label><div class=\"sk-toggleable__content\"><pre>SVC()</pre></div></div></div></div></div></div></div></div></div></div></div></div>"
      ],
      "text/plain": [
       "GridSearchCV(cv=5,\n",
       "             estimator=Pipeline(steps=[('scaler', StandardScaler()),\n",
       "                                       ('svm', SVC())]),\n",
       "             param_grid={'svm__C': [0.1, 1, 10],\n",
       "                         'svm__gamma': ['scale', 'auto'],\n",
       "                         'svm__kernel': ['linear', 'rbf']})"
      ]
     },
     "execution_count": 11,
     "metadata": {},
     "output_type": "execute_result"
    }
   ],
   "source": [
    "grid_search = GridSearchCV(svm_pipeline, param_grid, cv=5)\n",
    "grid_search.fit(x, y)"
   ]
  },
  {
   "cell_type": "markdown",
   "id": "8a738bf4",
   "metadata": {},
   "source": [
    "그리드 서치 수행. 5-fold 교차검증을 사용하며, 최적의 파라미터와 최고 성능을 출력한다."
   ]
  },
  {
   "cell_type": "markdown",
   "id": "f5fc1580",
   "metadata": {},
   "source": [
    "###  최적 하이퍼 파라미터와 최고 성능 출력"
   ]
  },
  {
   "cell_type": "code",
   "execution_count": 12,
   "id": "97f1ba40",
   "metadata": {},
   "outputs": [
    {
     "name": "stdout",
     "output_type": "stream",
     "text": [
      "Best parameters :  {'svm__C': 0.1, 'svm__gamma': 'scale', 'svm__kernel': 'rbf'}\n",
      "Best cross-validation score :  0.5799999999999998\n"
     ]
    }
   ],
   "source": [
    "print(\"Best parameters : \", grid_search.best_params_)\n",
    "print(\"Best cross-validation score : \", grid_search.best_score_)"
   ]
  }
 ],
 "metadata": {
  "kernelspec": {
   "display_name": "AIpytorch",
   "language": "python",
   "name": "aipytorch"
  },
  "language_info": {
   "codemirror_mode": {
    "name": "ipython",
    "version": 3
   },
   "file_extension": ".py",
   "mimetype": "text/x-python",
   "name": "python",
   "nbconvert_exporter": "python",
   "pygments_lexer": "ipython3",
   "version": "3.8.0"
  }
 },
 "nbformat": 4,
 "nbformat_minor": 5
}
