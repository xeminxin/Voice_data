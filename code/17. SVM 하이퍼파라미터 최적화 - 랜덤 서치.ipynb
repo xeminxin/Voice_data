{
 "cells": [
  {
   "cell_type": "markdown",
   "id": "78e5f8e7",
   "metadata": {},
   "source": [
    "# SVM 하이퍼파라미터 최적화 - 랜덤 서치\n",
    "랜덤 서치는 하이퍼파라미터의 값들을 랜덤으로 선택하여 모델을 학습시키고, 그 결과를 바탕으로 하이퍼파라미터의 최적 조합을 찾는 방법<br>\n",
    "랜덤 서치를 사용하면 하이퍼파라미터의 모든 조합을 시도해보는 것보다 효율적으로 하이퍼파라미터를 탐색할 수 있다. 하지만 랜덤 서치 역시 하이퍼파라미터의 범위를 어떻게 설정하느냐에 따라 최적의 조합을 찾는데 실패할 수도 있다.<br>\n",
    "\n",
    "- 랜덤 서치 구현\n",
    "1. SVM 모델 정의, 모델 학습 함수 작성\n",
    "2. 랜덤으로 선택할 하이퍼파라미터의 범위 설정\n",
    "3. 2번을 바탕으로 랜덤하게 하이퍼파라미터를 선택해 SVM 모델 학습\n",
    "4. 검증 데이터를 바탕으로 모델의 성능 평가\n",
    "5. 위 과정을 여러번 반복하여 최적의 하이퍼파라미터 조합을 찾는다."
   ]
  },
  {
   "cell_type": "markdown",
   "id": "3a0221c1",
   "metadata": {},
   "source": [
    "### 랜덤 서치 실습"
   ]
  },
  {
   "cell_type": "code",
   "execution_count": 1,
   "id": "52ede249",
   "metadata": {},
   "outputs": [],
   "source": [
    "from sklearn.model_selection import RandomizedSearchCV\n",
    "from sklearn.svm import SVC\n",
    "from scipy.stats import loguniform\n",
    "from sklearn.model_selection import GridSearchCV\n",
    "from sklearn.pipeline import Pipeline\n",
    "from sklearn.preprocessing import StandardScaler\n",
    "\n",
    "from sklearn.datasets import load_digits\n",
    "from sklearn.model_selection import train_test_split\n",
    "\n",
    "from sklearn.metrics import accuracy_score"
   ]
  },
  {
   "cell_type": "code",
   "execution_count": 2,
   "id": "4e40bdd6",
   "metadata": {},
   "outputs": [],
   "source": [
    "# 데이터 로드\n",
    "digits = load_digits()\n",
    "\n",
    "# 독립 변수, 종속 변수 데이터 지정\n",
    "x = digits.data\n",
    "y = digits.target\n",
    "\n",
    "x_train, x_test, y_train, y_test = train_test_split(x, y, test_size=0.2, random_state=42)\n",
    "# 손글씨 숫자 이미지 데이터 로드, train_test_split() 함수를 사용해 train data와 test data로 분리하는 코드"
   ]
  },
  {
   "cell_type": "markdown",
   "id": "eecf82cd",
   "metadata": {},
   "source": [
    "### 파이프라인 구성"
   ]
  },
  {
   "cell_type": "code",
   "execution_count": 3,
   "id": "916b4158",
   "metadata": {},
   "outputs": [],
   "source": [
    "svm_pipeline = Pipeline([\n",
    "    ('scaler', StandardScaler()),\n",
    "    ('svm', SVC())\n",
    "])"
   ]
  },
  {
   "cell_type": "markdown",
   "id": "6d0f8934",
   "metadata": {},
   "source": [
    "### 탐색할 하이퍼파라미터 공간"
   ]
  },
  {
   "cell_type": "code",
   "execution_count": 4,
   "id": "44f2cb6b",
   "metadata": {},
   "outputs": [],
   "source": [
    "params = {\n",
    "    \"C\" : loguniform(1e-4, 100),\n",
    "    \"kernel\" : ['linear', 'poly', 'rbf', 'sigmoid'],\n",
    "    'gamma' : ['scale', 'auto'] + list(loguniform(1e-4, 10).rvs(10)),\n",
    "    'degree' : range(1,6),\n",
    "    'coef0': loguniform(1e-4, 10).rvs(10)\n",
    "}"
   ]
  },
  {
   "cell_type": "markdown",
   "id": "ae92ec18",
   "metadata": {},
   "source": [
    "- C : SVM 모델의 규제 파라미터. 1e-4부터 100까지 log scale 범위에서 탐색\n",
    "- kernel : SVM 모델에서 사용할 커널 함수 설정. linear, poly, rbf, sigmoi 중 하나 사용\n",
    "- gamma : SVM 모델에서 사용할 커널 함수의 폭에 해당하는 파라미터. scale, auto를 포함한 1e-4부터 10까지 log scale 범위에서 탐색한다.\n",
    "- degree : poly 커널 함수에서 사용할 차수에 해당하는 파라미터. 1~5까지의 값 중 하나를 사용\n",
    "- coef0 : poly, sigmoid 커널 함수에서 사용할 상수항에 해당하는 파라미터이다. 1e-부터 10까지 log scale 범위에서 탐색\n",
    "\n",
    "#### rvs() 함수는 rv_frozen 객체에서 random variates(랜덤 샘플)을 생성한다."
   ]
  },
  {
   "cell_type": "markdown",
   "id": "3ddde9a1",
   "metadata": {},
   "source": [
    "### 랜덤 서치 실행"
   ]
  },
  {
   "cell_type": "code",
   "execution_count": 6,
   "id": "b2e41c42",
   "metadata": {},
   "outputs": [
    {
     "name": "stdout",
     "output_type": "stream",
     "text": [
      "Fitting 5 folds for each of 100 candidates, totalling 500 fits\n",
      "Best hyperparameters :  {'C': 39.44419812306922, 'coef0': 0.00016601468781762967, 'degree': 3, 'gamma': 'scale', 'kernel': 'rbf'}\n"
     ]
    }
   ],
   "source": [
    "# SVM 모델 생성\n",
    "svm_model = SVC()\n",
    "\n",
    "# 랜덤 서치 객체 생성\n",
    "random_search = RandomizedSearchCV(svm_model, params, n_iter=100, cv=5, verbose=2, n_jobs=-1)\n",
    "\n",
    "# 랜덤 서치 수행\n",
    "random_search.fit(x_train, y_train)\n",
    "\n",
    "# 최적 하이퍼파라미터 출력\n",
    "print('Best hyperparameters : ', random_search.best_params_)"
   ]
  },
  {
   "cell_type": "code",
   "execution_count": 7,
   "id": "d4839313",
   "metadata": {},
   "outputs": [
    {
     "name": "stdout",
     "output_type": "stream",
     "text": [
      "Test accuracy :  0.9861111111111112\n"
     ]
    }
   ],
   "source": [
    "# 최적 모델 저장\n",
    "best_model = random_search.best_estimator_\n",
    "\n",
    "# 테스트 데이터에 대한 예측 수행\n",
    "y_pred = best_model.predict(x_test)\n",
    "\n",
    "# 정확도 출력\n",
    "print('Test accuracy : ', accuracy_score(y_test, y_pred))"
   ]
  },
  {
   "cell_type": "code",
   "execution_count": null,
   "id": "7d898154",
   "metadata": {},
   "outputs": [],
   "source": []
  }
 ],
 "metadata": {
  "kernelspec": {
   "display_name": "AIpytorch",
   "language": "python",
   "name": "aipytorch"
  },
  "language_info": {
   "codemirror_mode": {
    "name": "ipython",
    "version": 3
   },
   "file_extension": ".py",
   "mimetype": "text/x-python",
   "name": "python",
   "nbconvert_exporter": "python",
   "pygments_lexer": "ipython3",
   "version": "3.8.0"
  }
 },
 "nbformat": 4,
 "nbformat_minor": 5
}
